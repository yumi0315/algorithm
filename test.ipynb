{
 "cells": [
  {
   "cell_type": "code",
   "execution_count": null,
   "id": "50e30b0c",
   "metadata": {},
   "outputs": [],
   "source": [
    "# 프로그래머스 1054점 달성\n",
    "# 프로그래머스 1065점 달성\n",
    "# 프로그래머스 1069점 달성"
   ]
  }
 ],
 "metadata": {
  "kernelspec": {
   "display_name": "Python 3",
   "language": "python",
   "name": "python3"
  },
  "language_info": {
   "name": "python",
   "version": "3.9.13"
  }
 },
 "nbformat": 4,
 "nbformat_minor": 5
}
