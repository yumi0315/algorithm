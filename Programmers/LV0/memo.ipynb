{
 "cells": [
  {
   "cell_type": "code",
   "execution_count": 1,
   "id": "69727545",
   "metadata": {},
   "outputs": [
    {
     "name": "stdout",
     "output_type": "stream",
     "text": [
      "120\n"
     ]
    }
   ],
   "source": [
    "import math\n",
    "arr = [1,2,3,4,5]\n",
    "print(math.prod(arr))"
   ]
  },
  {
   "cell_type": "code",
   "execution_count": null,
   "id": "828be666",
   "metadata": {},
   "outputs": [],
   "source": [
    "def trans_l(n):\n",
    "    result = ['0'] * len(str(n))\n",
    "    for idx, number in enumerate(list(map(int,str(n)))):\n",
    "        result[idx] = '1'\n",
    "        if number > 5:\n",
    "            result.append('0')\n",
    "            if idx:\n",
    "                result[idx] = '0'\n",
    "            break\n",
    "        elif number == 0:\n",
    "            result[idx] = '0'\n",
    "        elif number < 5:\n",
    "            break\n",
    "    return int(''.join(result),2)\n",
    "\n",
    "def trans_r(n):\n",
    "    result = ['1'] * len(str(n))\n",
    "    for idx, number in enumerate(list(map(int,str(n)))):\n",
    "        if number > 5:\n",
    "            break\n",
    "        elif number == 0:\n",
    "            result[idx] = '0'\n",
    "        elif number < 5:\n",
    "            if not idx: # idx가 0일때만 pop\n",
    "                result.pop()\n",
    "            else:\n",
    "                result[idx] = '0'\n",
    "            break\n",
    "    return int(''.join(result),2)\n",
    "\n",
    "        \n",
    "def solution(l, r):\n",
    "    min = trans_l(l)\n",
    "    max = trans_r(r)\n",
    "    \n",
    "    if min > max:\n",
    "        return [-1]\n",
    "    \n",
    "    return [int(bin(i)[2:])*5 for i in range(min,max+1)]\n",
    "    "
   ]
  }
 ],
 "metadata": {
  "kernelspec": {
   "display_name": "Python 3",
   "language": "python",
   "name": "python3"
  },
  "language_info": {
   "codemirror_mode": {
    "name": "ipython",
    "version": 3
   },
   "file_extension": ".py",
   "mimetype": "text/x-python",
   "name": "python",
   "nbconvert_exporter": "python",
   "pygments_lexer": "ipython3",
   "version": "3.8.7"
  }
 },
 "nbformat": 4,
 "nbformat_minor": 5
}
