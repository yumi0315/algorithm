{
 "cells": [
  {
   "cell_type": "code",
   "execution_count": 1,
   "id": "69727545",
   "metadata": {},
   "outputs": [
    {
     "name": "stdout",
     "output_type": "stream",
     "text": [
      "120\n"
     ]
    }
   ],
   "source": [
    "import math\n",
    "arr = [1,2,3,4,5]\n",
    "print(math.prod(arr))"
   ]
  },
  {
   "cell_type": "code",
   "execution_count": null,
   "id": "828be666",
   "metadata": {},
   "outputs": [],
   "source": [
    "def trans_l(n):\n",
    "    result = ['0'] * len(str(n))\n",
    "    for idx, number in enumerate(list(map(int,str(n)))):\n",
    "        result[idx] = '1'\n",
    "        if number > 5:\n",
    "            result.append('0')\n",
    "            if idx:\n",
    "                result[idx] = '0'\n",
    "            break\n",
    "        elif number == 0:\n",
    "            result[idx] = '0'\n",
    "        elif number < 5:\n",
    "            break\n",
    "    return int(''.join(result),2)\n",
    "\n",
    "def trans_r(n):\n",
    "    result = ['1'] * len(str(n))\n",
    "    for idx, number in enumerate(list(map(int,str(n)))):\n",
    "        if number > 5:\n",
    "            break\n",
    "        elif number == 0:\n",
    "            result[idx] = '0'\n",
    "        elif number < 5:\n",
    "            if not idx: # idx가 0일때만 pop\n",
    "                result.pop()\n",
    "            else:\n",
    "                result[idx] = '0'\n",
    "            break\n",
    "    return int(''.join(result),2)\n",
    "\n",
    "        \n",
    "def solution(l, r):\n",
    "    min = trans_l(l)\n",
    "    max = trans_r(r)\n",
    "    \n",
    "    if min > max:\n",
    "        return [-1]\n",
    "    \n",
    "    return [int(bin(i)[2:])*5 for i in range(min,max+1)]\n",
    "    "
   ]
  },
  {
   "cell_type": "code",
   "execution_count": null,
   "id": "801be62e",
   "metadata": {},
   "outputs": [],
   "source": [
    "def solution(my_string, queries):\n",
    "    answer=list(my_string)\n",
    "    for s,e in queries:\n",
    "        answer[s:e+1]=answer[s:e+1][::-1]\n",
    "    return ''.join(answer)\n"
   ]
  },
  {
   "cell_type": "code",
   "execution_count": 2,
   "id": "0a407004",
   "metadata": {},
   "outputs": [
    {
     "data": {
      "text/plain": [
       "120"
      ]
     },
     "execution_count": 2,
     "metadata": {},
     "output_type": "execute_result"
    }
   ],
   "source": [
    "# 안의 모든 수를 곱하는 함수\n",
    "from math import prod\n",
    "prod([1,2,3,4,5])"
   ]
  }
 ],
 "metadata": {
  "kernelspec": {
   "display_name": "Python 3",
   "language": "python",
   "name": "python3"
  },
  "language_info": {
   "codemirror_mode": {
    "name": "ipython",
    "version": 3
   },
   "file_extension": ".py",
   "mimetype": "text/x-python",
   "name": "python",
   "nbconvert_exporter": "python",
   "pygments_lexer": "ipython3",
   "version": "3.8.7"
  }
 },
 "nbformat": 4,
 "nbformat_minor": 5
}
